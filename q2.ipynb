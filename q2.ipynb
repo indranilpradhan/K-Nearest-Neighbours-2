{
 "cells": [
  {
   "cell_type": "markdown",
   "metadata": {},
   "source": [
    "# KNN based classifier to classify given set of features in Mushroom Database"
   ]
  },
  {
   "cell_type": "code",
   "execution_count": 38,
   "metadata": {},
   "outputs": [],
   "source": [
    "import numpy as np\n",
    "import pandas as pd\n",
    "from numpy.random import RandomState\n",
    "from collections import Counter\n",
    "from sklearn.metrics import confusion_matrix \n",
    "from sklearn.metrics import classification_report\n",
    "from sklearn.neighbors import KNeighborsClassifier\n",
    "import matplotlib.pyplot as plt"
   ]
  },
  {
   "cell_type": "code",
   "execution_count": 39,
   "metadata": {},
   "outputs": [],
   "source": [
    "def accuracy(y_real, y_pred):\n",
    "#    print(\"y_real \",len(y_real))\n",
    "#    print(\"y_pred \",len(y_pred))\n",
    "    accuracy = np.sum(y_real == y_pred) / len(y_real)\n",
    "    return accuracy"
   ]
  },
  {
   "cell_type": "code",
   "execution_count": 40,
   "metadata": {},
   "outputs": [],
   "source": [
    "def euclidean_distance(row):\n",
    "    #print(row.shape)\n",
    "    dist = []\n",
    "    for train_row in X_train:\n",
    "        dist.append(np.sqrt(np.sum((train_row - row) ** 2)))\n",
    "    return dist"
   ]
  },
  {
   "cell_type": "code",
   "execution_count": 41,
   "metadata": {},
   "outputs": [],
   "source": [
    "def manhattan_distance(row):\n",
    "    dist = []\n",
    "    for train_row in X_train:\n",
    "        dist.append(np.sum(np.abs(train_row - row)))\n",
    "    return dist"
   ]
  },
  {
   "cell_type": "code",
   "execution_count": 42,
   "metadata": {},
   "outputs": [],
   "source": [
    "def prediction(row,k):\n",
    "    dist = euclidean_distance(row)\n",
    "    indexes = np.argsort(dist)[:k]\n",
    "    neighbors = Y_train[indexes]\n",
    "    match = Counter(neighbors).most_common(1)\n",
    "    #print(match[0][0])\n",
    "    return match[0][0]"
   ]
  },
  {
   "cell_type": "code",
   "execution_count": 43,
   "metadata": {},
   "outputs": [],
   "source": [
    "def prediction_manhattan(row,k):\n",
    "    dist = manhattan_distance(row)\n",
    "    indexes = np.argsort(dist)[:k]\n",
    "    neighbors = Y_train[indexes]\n",
    "    match = Counter(neighbors).most_common(1)\n",
    "    #print(match[0][0])\n",
    "    return match[0][0]"
   ]
  },
  {
   "cell_type": "code",
   "execution_count": 44,
   "metadata": {},
   "outputs": [],
   "source": [
    "def predict(k):\n",
    "    y_pred = [prediction(x,k) for x in X_validation]\n",
    "    return np.array(y_pred)"
   ]
  },
  {
   "cell_type": "code",
   "execution_count": 45,
   "metadata": {},
   "outputs": [],
   "source": [
    "def predict_euclidean(k):\n",
    "    y_pred = [prediction(x,k) for x in X_test]\n",
    "    return np.array(y_pred)"
   ]
  },
  {
   "cell_type": "code",
   "execution_count": 46,
   "metadata": {},
   "outputs": [],
   "source": [
    "def predict_manhattan(k):\n",
    "    y_pred = [prediction_manhattan(x,k) for x in X_validation]\n",
    "    return np.array(y_pred)"
   ]
  },
  {
   "cell_type": "code",
   "execution_count": null,
   "metadata": {},
   "outputs": [],
   "source": [
    "missing_values = [\"?\"]\n",
    "temp_df = pd.read_csv('/media/indranil/New Volume/second sem/SMAI/Assignment 1/q2/dataset/train.csv', na_values = missing_values, header = None)\n",
    "new_temp_df = temp_df.fillna(temp_df.iloc[:,11:12].mode().iloc[0])\n",
    "new_temp_df.iloc[:,11:12]\n",
    "new_ar = np.array(new_temp_df)\n",
    "new_ar.shape\n",
    "for x in range(0, new_ar.shape[0]):\n",
    "    for y in range(0, new_ar.shape[1]):\n",
    "        new_ar[x][y] = ord(new_ar[x][y])\n",
    "new_ar[:,0]"
   ]
  },
  {
   "cell_type": "code",
   "execution_count": 48,
   "metadata": {},
   "outputs": [],
   "source": [
    "missing_values = [\"?\"]\n",
    "temp_df = pd.read_csv('/media/indranil/New Volume1/second sem/SMAI/Assignment 1/q2/dataset/train.csv', na_values = missing_values, header = None)\n",
    "df = temp_df.fillna(temp_df.iloc[:,11:12].mode().iloc[0])\n",
    "rng = RandomState()\n",
    "temp_train = df.sample(frac=0.8,random_state = rng)\n",
    "temp_validation = df.loc[~df.index.isin(temp_train.index)]\n",
    "train = np.array(temp_train)\n",
    "validation = np.array(temp_validation)\n",
    "for x in range(0, train.shape[0]):\n",
    "    for y in range(0, train.shape[1]):\n",
    "        train[x][y] = float(ord(train[x][y]))\n",
    "for x in range(0, validation.shape[0]):\n",
    "    for y in range(0, validation.shape[1]):\n",
    "        validation[x][y] = float(ord(validation[x][y]))\n",
    "X_train,Y_train = train[:,1:], train[:,0]\n",
    "X_validation,Y_validation = validation[:, 1:], validation[:,0]\n",
    "#X_train = np.array(X_train)\n",
    "#Y_train = np.array(Y_train)\n",
    "#X_validation = np.array(X_validation)\n",
    "#Y_validation = np.array(Y_validation)\n",
    "#X_train.shape"
   ]
  },
  {
   "cell_type": "markdown",
   "metadata": {},
   "source": [
    "# Prediction on test data set with K =2 on euclidean distance classifier."
   ]
  },
  {
   "cell_type": "code",
   "execution_count": 25,
   "metadata": {},
   "outputs": [
    {
     "data": {
      "text/plain": [
       "0.999"
      ]
     },
     "execution_count": 25,
     "metadata": {},
     "output_type": "execute_result"
    }
   ],
   "source": [
    "df_test = pd.read_csv('/media/indranil/New Volume1/second sem/SMAI/Assignment 1/q2/dataset/test.csv',header = None)\n",
    "#print(df_test.shape)\n",
    "X_test = df_test.to_numpy()\n",
    "for x in range(0, X_test.shape[0]):\n",
    "    for y in range(0, X_test.shape[1]):\n",
    "        X_test[x][y] = float(ord(X_test[x][y]))\n",
    "#print(X_test)\n",
    "Y_temp_test = pd.read_csv('/media/indranil/New Volume1/second sem/SMAI/Assignment 1/q2/dataset/test_labels.csv',header = None)\n",
    "Y_test_np = Y_temp_test.to_numpy()\n",
    "#Y_test.shape\n",
    "Y_list = list()\n",
    "for x in range(0, Y_test_np.shape[0]):\n",
    "    for y in range(0, Y_test_np.shape[1]):\n",
    "        #print(float(ord(Y_test_np[x][y])))\n",
    "        Y_list.append(float(ord(Y_test_np[x][y])))\n",
    "Y_test = np.array(Y_list)\n",
    "predictions_k = predict_euclidean(2)\n",
    "accuracy(Y_test, predictions_k)"
   ]
  },
  {
   "cell_type": "markdown",
   "metadata": {},
   "source": [
    "# Confusion Matrix using k = 2"
   ]
  },
  {
   "cell_type": "code",
   "execution_count": 26,
   "metadata": {},
   "outputs": [
    {
     "name": "stdout",
     "output_type": "stream",
     "text": [
      "[[504   1]\n",
      " [  0 495]]\n"
     ]
    }
   ],
   "source": [
    "print(confusion_matrix(Y_test, predictions_k))"
   ]
  },
  {
   "cell_type": "markdown",
   "metadata": {},
   "source": [
    "# Classification Report using k = 2"
   ]
  },
  {
   "cell_type": "code",
   "execution_count": 27,
   "metadata": {},
   "outputs": [
    {
     "name": "stdout",
     "output_type": "stream",
     "text": [
      "              precision    recall  f1-score   support\n",
      "\n",
      "       101.0       1.00      1.00      1.00       505\n",
      "       112.0       1.00      1.00      1.00       495\n",
      "\n",
      "    accuracy                           1.00      1000\n",
      "   macro avg       1.00      1.00      1.00      1000\n",
      "weighted avg       1.00      1.00      1.00      1000\n",
      "\n"
     ]
    }
   ],
   "source": [
    "print(classification_report(Y_test, predictions_k))"
   ]
  },
  {
   "cell_type": "markdown",
   "metadata": {},
   "source": [
    "# Classification using scikit-learn’s kNN classifier"
   ]
  },
  {
   "cell_type": "code",
   "execution_count": 29,
   "metadata": {},
   "outputs": [
    {
     "data": {
      "text/plain": [
       "1.0"
      ]
     },
     "execution_count": 29,
     "metadata": {},
     "output_type": "execute_result"
    }
   ],
   "source": [
    "knn_df_test = pd.read_csv('/media/indranil/New Volume1/second sem/SMAI/Assignment 1/q2/dataset/test.csv',header = None)\n",
    "#print(df_test.shape)\n",
    "X_test = knn_df_test.to_numpy()\n",
    "for x in range(0, X_test.shape[0]):\n",
    "    for y in range(0, X_test.shape[1]):\n",
    "        X_test[x][y] = float(ord(X_test[x][y]))\n",
    "#print(X_test)\n",
    "knn_Y_temp_test = pd.read_csv('/media/indranil/New Volume1/second sem/SMAI/Assignment 1/q2/dataset/test_labels.csv',header = None)\n",
    "knn_Y_test_np = knn_Y_temp_test.to_numpy()\n",
    "#Y_test.shape\n",
    "Y_list = list()\n",
    "for x in range(0, knn_Y_test_np.shape[0]):\n",
    "    for y in range(0, knn_Y_test_np.shape[1]):\n",
    "        Y_list.append(int(ord((Y_test_np[x][y]))))\n",
    "Y_test = np.array(Y_list)\n",
    "Y_train = Y_train.astype('float')\n",
    "classifier = KNeighborsClassifier(n_neighbors=2)\n",
    "#type(Y_train)\n",
    "classifier.fit(X_train, Y_train)\n",
    "knn_pred = classifier.predict(X_test)\n",
    "accuracy(Y_test,knn_pred)"
   ]
  },
  {
   "cell_type": "markdown",
   "metadata": {},
   "source": [
    "\n",
    "# Confusion matrix with Sklearn knn classifier"
   ]
  },
  {
   "cell_type": "code",
   "execution_count": 30,
   "metadata": {},
   "outputs": [
    {
     "name": "stdout",
     "output_type": "stream",
     "text": [
      "[[505   0]\n",
      " [  0 495]]\n"
     ]
    }
   ],
   "source": [
    "print(confusion_matrix(Y_test, knn_pred))"
   ]
  },
  {
   "cell_type": "markdown",
   "metadata": {},
   "source": [
    "# Classification report with sklearn KNN classifier"
   ]
  },
  {
   "cell_type": "code",
   "execution_count": 31,
   "metadata": {},
   "outputs": [
    {
     "name": "stdout",
     "output_type": "stream",
     "text": [
      "              precision    recall  f1-score   support\n",
      "\n",
      "         101       1.00      1.00      1.00       505\n",
      "         112       1.00      1.00      1.00       495\n",
      "\n",
      "    accuracy                           1.00      1000\n",
      "   macro avg       1.00      1.00      1.00      1000\n",
      "weighted avg       1.00      1.00      1.00      1000\n",
      "\n"
     ]
    }
   ],
   "source": [
    "print(classification_report(Y_test, knn_pred))"
   ]
  },
  {
   "cell_type": "markdown",
   "metadata": {},
   "source": [
    "Accuracy using euclidean distance with k = 3"
   ]
  },
  {
   "cell_type": "code",
   "execution_count": 63,
   "metadata": {},
   "outputs": [
    {
     "name": "stdout",
     "output_type": "stream",
     "text": [
      "1.0\n"
     ]
    }
   ],
   "source": [
    "predictions_3 = predict(3)\n",
    "accuracy(Y_validation, predictions_3)"
   ]
  },
  {
   "cell_type": "markdown",
   "metadata": {},
   "source": [
    "Accuracy using euclidean distance with k = 2"
   ]
  },
  {
   "cell_type": "code",
   "execution_count": 64,
   "metadata": {},
   "outputs": [
    {
     "name": "stdout",
     "output_type": "stream",
     "text": [
      "1.0\n"
     ]
    }
   ],
   "source": [
    "predictions_2 = predict(2)\n",
    "accuracy(Y_validation, predictions_2)"
   ]
  },
  {
   "cell_type": "markdown",
   "metadata": {},
   "source": [
    "Accuracy using euclidean distance with k = 1"
   ]
  },
  {
   "cell_type": "code",
   "execution_count": 65,
   "metadata": {},
   "outputs": [
    {
     "name": "stdout",
     "output_type": "stream",
     "text": [
      "1.0\n"
     ]
    }
   ],
   "source": [
    "predictions_1 = predict(1)\n",
    "accuracy(Y_validation, predictions_1)"
   ]
  },
  {
   "cell_type": "markdown",
   "metadata": {},
   "source": [
    "Accuracy using euclidean distance with k = 4"
   ]
  },
  {
   "cell_type": "code",
   "execution_count": 66,
   "metadata": {},
   "outputs": [
    {
     "name": "stdout",
     "output_type": "stream",
     "text": [
      "1.0\n"
     ]
    }
   ],
   "source": [
    "predictions_4 = predict(4)\n",
    "accuracy(Y_validation, predictions_4)"
   ]
  },
  {
   "cell_type": "markdown",
   "metadata": {},
   "source": [
    "Accuracy using euclidean distance with k = 5"
   ]
  },
  {
   "cell_type": "code",
   "execution_count": 67,
   "metadata": {},
   "outputs": [
    {
     "name": "stdout",
     "output_type": "stream",
     "text": [
      "1.0\n"
     ]
    }
   ],
   "source": [
    "predictions_5 = predict(5)\n",
    "accuracy(Y_validation, predictions_5)"
   ]
  },
  {
   "cell_type": "markdown",
   "metadata": {},
   "source": [
    "Accuracy using manhattan distance with k = 1"
   ]
  },
  {
   "cell_type": "code",
   "execution_count": 78,
   "metadata": {},
   "outputs": [
    {
     "name": "stdout",
     "output_type": "stream",
     "text": [
      "1.0\n"
     ]
    }
   ],
   "source": [
    "man_predictions_1 = predict_manhattan(1)\n",
    "accuracy(Y_validation, man_predictions_1)"
   ]
  },
  {
   "cell_type": "markdown",
   "metadata": {},
   "source": [
    "Accuracy using manhattan distance with k = 2"
   ]
  },
  {
   "cell_type": "code",
   "execution_count": 79,
   "metadata": {},
   "outputs": [
    {
     "name": "stdout",
     "output_type": "stream",
     "text": [
      "1.0\n"
     ]
    }
   ],
   "source": [
    "man_predictions_2 = predict_manhattan(2)\n",
    "accuracy(Y_validation, man_predictions_2)"
   ]
  },
  {
   "cell_type": "markdown",
   "metadata": {},
   "source": [
    "Accuracy using manhattan distance with k = 3"
   ]
  },
  {
   "cell_type": "code",
   "execution_count": 70,
   "metadata": {},
   "outputs": [
    {
     "name": "stdout",
     "output_type": "stream",
     "text": [
      "1.0\n"
     ]
    }
   ],
   "source": [
    "man_predictions_3 = predict_manhattan(3)\n",
    "accuracy(Y_validation, man_predictions_3)"
   ]
  },
  {
   "cell_type": "markdown",
   "metadata": {},
   "source": [
    "Accuracy using manhattan distance with k = 4"
   ]
  },
  {
   "cell_type": "code",
   "execution_count": 71,
   "metadata": {},
   "outputs": [
    {
     "name": "stdout",
     "output_type": "stream",
     "text": [
      "1.0\n"
     ]
    }
   ],
   "source": [
    "man_predictions_4 = predict_manhattan(4)\n",
    "accuracy(Y_validation, man_predictions_4)"
   ]
  },
  {
   "cell_type": "markdown",
   "metadata": {},
   "source": [
    "Accuracy using manhattan distance with k = 5"
   ]
  },
  {
   "cell_type": "code",
   "execution_count": 72,
   "metadata": {},
   "outputs": [
    {
     "name": "stdout",
     "output_type": "stream",
     "text": [
      "1.0\n"
     ]
    }
   ],
   "source": [
    "man_predictions_5 = predict_manhattan(5)\n",
    "accuracy(Y_validation, man_predictions_5)"
   ]
  },
  {
   "cell_type": "markdown",
   "metadata": {},
   "source": [
    "# With the classifier setting k = 2 the accuracy is 0.999 on test data set using euclidean distant. with sklearn classifier the accuracy is 1.0 on test data."
   ]
  },
  {
   "cell_type": "markdown",
   "metadata": {},
   "source": [
    "# Plotting of graph using different K value for eulclidean distance measurement"
   ]
  },
  {
   "cell_type": "code",
   "execution_count": 83,
   "metadata": {},
   "outputs": [
    {
     "data": {
      "text/plain": [
       "Text(0, 0.5, 'Testing Accuracy')"
      ]
     },
     "execution_count": 83,
     "metadata": {},
     "output_type": "execute_result"
    },
    {
     "data": {
      "image/png": "[encoded data removed]",
      "text/plain": [
       "<Figure size 432x288 with 1 Axes>"
      ]
     },
     "metadata": {
      "needs_background": "light"
     },
     "output_type": "display_data"
    }
   ],
   "source": [
    "k = [1,2,3,4,5]\n",
    "euc_list= [1.0,1.0,1.0,1.0,1.0]\n",
    "plt.plot(k,euc_list)\n",
    "plt.xlabel(\"Value of K\")\n",
    "plt.ylabel(\"Testing Accuracy\")"
   ]
  },
  {
   "cell_type": "markdown",
   "metadata": {},
   "source": [
    "# Plotting of graph using different K value for manhattan distance measurement"
   ]
  },
  {
   "cell_type": "code",
   "execution_count": 85,
   "metadata": {},
   "outputs": [
    {
     "data": {
      "text/plain": [
       "Text(0, 0.5, 'Testing Accuracy')"
      ]
     },
     "execution_count": 85,
     "metadata": {},
     "output_type": "execute_result"
    },
    {
     "data": {
      "image/png": "[encoded data removed]",
      "text/plain": [
       "<Figure size 432x288 with 1 Axes>"
      ]
     },
     "metadata": {
      "needs_background": "light"
     },
     "output_type": "display_data"
    }
   ],
   "source": [
    "k = [1,2,3,4,5]\n",
    "man_list= [1.0,1.0,1.0,1.0,1.0]\n",
    "plt.plot(k,man_list)\n",
    "plt.xlabel(\"Value of K\")\n",
    "plt.ylabel(\"Testing Accuracy\")"
   ]
  },
  {
   "cell_type": "code",
   "execution_count": null,
   "metadata": {},
   "outputs": [],
   "source": []
  }
 ],
 "metadata": {
  "kernelspec": {
   "display_name": "Python 3",
   "language": "python",
   "name": "python3"
  },
  "language_info": {
   "codemirror_mode": {
    "name": "ipython",
    "version": 3
   },
   "file_extension": ".py",
   "mimetype": "text/x-python",
   "name": "python",
   "nbconvert_exporter": "python",
   "pygments_lexer": "ipython3",
   "version": "3.6.9"
  }
 },
 "nbformat": 4,
 "nbformat_minor": 4
}
